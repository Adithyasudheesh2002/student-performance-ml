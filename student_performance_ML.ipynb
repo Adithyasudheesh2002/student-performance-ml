{
  "nbformat": 4,
  "nbformat_minor": 0,
  "metadata": {
    "colab": {
      "provenance": []
    },
    "kernelspec": {
      "name": "python3",
      "display_name": "Python 3"
    },
    "language_info": {
      "name": "python"
    }
  },
  "cells": [
    {
      "cell_type": "code",
      "execution_count": 1,
      "metadata": {
        "colab": {
          "base_uri": "https://localhost:8080/"
        },
        "id": "maFzxV-OGYzc",
        "outputId": "6e879d2f-1e8a-415a-8ce6-6dfc122cd0d1"
      },
      "outputs": [
        {
          "output_type": "stream",
          "name": "stdout",
          "text": [
            "Requirement already satisfied: pandas in /usr/local/lib/python3.11/dist-packages (2.2.2)\n",
            "Requirement already satisfied: numpy in /usr/local/lib/python3.11/dist-packages (2.0.2)\n",
            "Requirement already satisfied: scikit-learn in /usr/local/lib/python3.11/dist-packages (1.6.1)\n",
            "Requirement already satisfied: seaborn in /usr/local/lib/python3.11/dist-packages (0.13.2)\n",
            "Requirement already satisfied: matplotlib in /usr/local/lib/python3.11/dist-packages (3.10.0)\n",
            "Requirement already satisfied: python-dateutil>=2.8.2 in /usr/local/lib/python3.11/dist-packages (from pandas) (2.8.2)\n",
            "Requirement already satisfied: pytz>=2020.1 in /usr/local/lib/python3.11/dist-packages (from pandas) (2025.2)\n",
            "Requirement already satisfied: tzdata>=2022.7 in /usr/local/lib/python3.11/dist-packages (from pandas) (2025.2)\n",
            "Requirement already satisfied: scipy>=1.6.0 in /usr/local/lib/python3.11/dist-packages (from scikit-learn) (1.14.1)\n",
            "Requirement already satisfied: joblib>=1.2.0 in /usr/local/lib/python3.11/dist-packages (from scikit-learn) (1.4.2)\n",
            "Requirement already satisfied: threadpoolctl>=3.1.0 in /usr/local/lib/python3.11/dist-packages (from scikit-learn) (3.6.0)\n",
            "Requirement already satisfied: contourpy>=1.0.1 in /usr/local/lib/python3.11/dist-packages (from matplotlib) (1.3.2)\n",
            "Requirement already satisfied: cycler>=0.10 in /usr/local/lib/python3.11/dist-packages (from matplotlib) (0.12.1)\n",
            "Requirement already satisfied: fonttools>=4.22.0 in /usr/local/lib/python3.11/dist-packages (from matplotlib) (4.57.0)\n",
            "Requirement already satisfied: kiwisolver>=1.3.1 in /usr/local/lib/python3.11/dist-packages (from matplotlib) (1.4.8)\n",
            "Requirement already satisfied: packaging>=20.0 in /usr/local/lib/python3.11/dist-packages (from matplotlib) (24.2)\n",
            "Requirement already satisfied: pillow>=8 in /usr/local/lib/python3.11/dist-packages (from matplotlib) (11.1.0)\n",
            "Requirement already satisfied: pyparsing>=2.3.1 in /usr/local/lib/python3.11/dist-packages (from matplotlib) (3.2.3)\n",
            "Requirement already satisfied: six>=1.5 in /usr/local/lib/python3.11/dist-packages (from python-dateutil>=2.8.2->pandas) (1.17.0)\n"
          ]
        }
      ],
      "source": [
        "#install packages\n",
        "pip install pandas numpy scikit-learn seaborn matplotlib\n"
      ]
    },
    {
      "cell_type": "code",
      "source": [
        "!pip install --upgrade scikit-learn"
      ],
      "metadata": {
        "colab": {
          "base_uri": "https://localhost:8080/"
        },
        "id": "CHRBq824IFhk",
        "outputId": "e0ee98a9-0408-4f07-a1ec-170424f095d7"
      },
      "execution_count": 13,
      "outputs": [
        {
          "output_type": "stream",
          "name": "stdout",
          "text": [
            "Requirement already satisfied: scikit-learn in /usr/local/lib/python3.11/dist-packages (1.6.1)\n",
            "Requirement already satisfied: numpy>=1.19.5 in /usr/local/lib/python3.11/dist-packages (from scikit-learn) (2.0.2)\n",
            "Requirement already satisfied: scipy>=1.6.0 in /usr/local/lib/python3.11/dist-packages (from scikit-learn) (1.14.1)\n",
            "Requirement already satisfied: joblib>=1.2.0 in /usr/local/lib/python3.11/dist-packages (from scikit-learn) (1.4.2)\n",
            "Requirement already satisfied: threadpoolctl>=3.1.0 in /usr/local/lib/python3.11/dist-packages (from scikit-learn) (3.6.0)\n"
          ]
        }
      ]
    },
    {
      "cell_type": "code",
      "source": [
        "#import libraries\n",
        "import pandas as pd\n",
        "import numpy as np\n",
        "import seaborn as sns\n",
        "import matplotlib.pyplot as plt\n",
        "\n",
        "from sklearn.model_selection import train_test_split\n",
        "from sklearn.preprocessing import LabelEncoder, StandardScaler\n",
        "from sklearn.linear_model import LinearRegression, LogisticRegression\n",
        "from sklearn.tree import DecisionTreeClassifier, DecisionTreeRegressor\n",
        "from sklearn.ensemble import RandomForestClassifier, RandomForestRegressor\n",
        "from sklearn.metrics import mean_squared_error, r2_score, accuracy_score, classification_report\n"
      ],
      "metadata": {
        "id": "YJK0IPnGGgTn"
      },
      "execution_count": 2,
      "outputs": []
    },
    {
      "cell_type": "code",
      "source": [
        "#load the dataset\n",
        "\n",
        "data = pd.read_csv('/content/student-mat.csv', sep=';')\n",
        "print(data.head())\n"
      ],
      "metadata": {
        "colab": {
          "base_uri": "https://localhost:8080/"
        },
        "id": "dWVu4feUGpFQ",
        "outputId": "8acdfb4d-19e6-4ea6-99cf-6908efb78d0f"
      },
      "execution_count": 4,
      "outputs": [
        {
          "output_type": "stream",
          "name": "stdout",
          "text": [
            "  school sex  age address famsize Pstatus  Medu  Fedu     Mjob      Fjob  ...  \\\n",
            "0     GP   F   18       U     GT3       A     4     4  at_home   teacher  ...   \n",
            "1     GP   F   17       U     GT3       T     1     1  at_home     other  ...   \n",
            "2     GP   F   15       U     LE3       T     1     1  at_home     other  ...   \n",
            "3     GP   F   15       U     GT3       T     4     2   health  services  ...   \n",
            "4     GP   F   16       U     GT3       T     3     3    other     other  ...   \n",
            "\n",
            "  famrel freetime  goout  Dalc  Walc health absences  G1  G2  G3  \n",
            "0      4        3      4     1     1      3        6   5   6   6  \n",
            "1      5        3      3     1     1      3        4   5   5   6  \n",
            "2      4        3      2     2     3      3       10   7   8  10  \n",
            "3      3        2      2     1     1      5        2  15  14  15  \n",
            "4      4        3      2     1     2      5        4   6  10  10  \n",
            "\n",
            "[5 rows x 33 columns]\n"
          ]
        }
      ]
    },
    {
      "cell_type": "code",
      "source": [
        "#data preporcessing\n",
        "\n",
        "# Check missing data\n",
        "print(data.isnull().sum())\n",
        "\n",
        "# If needed, fill or drop missing data (this dataset has no missing values usually)\n"
      ],
      "metadata": {
        "colab": {
          "base_uri": "https://localhost:8080/"
        },
        "id": "PfvRLZk1HNfQ",
        "outputId": "37e2f126-212d-4913-bef7-1544507adc36"
      },
      "execution_count": 5,
      "outputs": [
        {
          "output_type": "stream",
          "name": "stdout",
          "text": [
            "school        0\n",
            "sex           0\n",
            "age           0\n",
            "address       0\n",
            "famsize       0\n",
            "Pstatus       0\n",
            "Medu          0\n",
            "Fedu          0\n",
            "Mjob          0\n",
            "Fjob          0\n",
            "reason        0\n",
            "guardian      0\n",
            "traveltime    0\n",
            "studytime     0\n",
            "failures      0\n",
            "schoolsup     0\n",
            "famsup        0\n",
            "paid          0\n",
            "activities    0\n",
            "nursery       0\n",
            "higher        0\n",
            "internet      0\n",
            "romantic      0\n",
            "famrel        0\n",
            "freetime      0\n",
            "goout         0\n",
            "Dalc          0\n",
            "Walc          0\n",
            "health        0\n",
            "absences      0\n",
            "G1            0\n",
            "G2            0\n",
            "G3            0\n",
            "dtype: int64\n"
          ]
        }
      ]
    },
    {
      "cell_type": "code",
      "source": [
        "# Label Encoding for binary categories, One-Hot for multi-categories\n",
        "\n",
        "# Label encoding for binary columns\n",
        "binary_cols = ['sex', 'address', 'famsize', 'Pstatus', 'schoolsup', 'famsup',\n",
        "               'paid', 'activities', 'nursery', 'higher', 'internet', 'romantic']\n",
        "\n",
        "le = LabelEncoder()\n",
        "for col in binary_cols:\n",
        "    data[col] = le.fit_transform(data[col])\n",
        "\n",
        "# One-hot encoding for nominal categorical columns\n",
        "data = pd.get_dummies(data, columns=['school', 'Mjob', 'Fjob', 'reason', 'guardian'], drop_first=True)\n"
      ],
      "metadata": {
        "id": "sybPMMkhHTxu"
      },
      "execution_count": 6,
      "outputs": []
    },
    {
      "cell_type": "code",
      "source": [
        "#feature scaling\n",
        "scaler = StandardScaler()\n",
        "numerical_cols = ['age', 'Medu', 'Fedu', 'traveltime', 'studytime', 'failures', 'famrel',\n",
        "                  'freetime', 'goout', 'Dalc', 'Walc', 'health', 'absences']\n",
        "\n",
        "data[numerical_cols] = scaler.fit_transform(data[numerical_cols])\n"
      ],
      "metadata": {
        "id": "sQqV3IlzHYd5"
      },
      "execution_count": 7,
      "outputs": []
    },
    {
      "cell_type": "code",
      "source": [
        "#define target variable\n",
        "# For regression\n",
        "regression_target = 'G3'\n",
        "\n",
        "# For classification (pass/fail based on final grade)\n",
        "data['pass'] = data['G3'].apply(lambda x: 1 if x >= 10 else 0)\n",
        "classification_target = 'pass'\n"
      ],
      "metadata": {
        "id": "akauoMcLHcc3"
      },
      "execution_count": 8,
      "outputs": []
    },
    {
      "cell_type": "code",
      "source": [
        "#train /test split\n",
        "\n",
        "# Features\n",
        "X = data.drop(['G3', 'pass'], axis=1)\n",
        "\n",
        "# Regression split\n",
        "y_reg = data[regression_target]\n",
        "X_train_reg, X_test_reg, y_train_reg, y_test_reg = train_test_split(X, y_reg, test_size=0.2, random_state=42)\n",
        "\n",
        "# Classification split\n",
        "y_clf = data[classification_target]\n",
        "X_train_clf, X_test_clf, y_train_clf, y_test_clf = train_test_split(X, y_clf, test_size=0.2, random_state=42)\n"
      ],
      "metadata": {
        "id": "Cww_ea5OHjnp"
      },
      "execution_count": 9,
      "outputs": []
    },
    {
      "cell_type": "code",
      "source": [
        "#training regression model\n",
        "\n",
        "# Linear Regression\n",
        "lr_model = LinearRegression()\n",
        "lr_model.fit(X_train_reg, y_train_reg)\n",
        "y_pred_lr = lr_model.predict(X_test_reg)\n",
        "\n",
        "# Decision Tree Regressor\n",
        "dt_reg = DecisionTreeRegressor(random_state=42)\n",
        "dt_reg.fit(X_train_reg, y_train_reg)\n",
        "y_pred_dt_reg = dt_reg.predict(X_test_reg)\n",
        "\n",
        "# Random Forest Regressor\n",
        "rf_reg = RandomForestRegressor(random_state=42)\n",
        "rf_reg.fit(X_train_reg, y_train_reg)\n",
        "y_pred_rf_reg = rf_reg.predict(X_test_reg)\n"
      ],
      "metadata": {
        "id": "AACOF01eHliy"
      },
      "execution_count": 10,
      "outputs": []
    },
    {
      "cell_type": "code",
      "source": [
        "# training classification model\n",
        "\n",
        "# Logistic Regression\n",
        "log_model = LogisticRegression(max_iter=1000)\n",
        "log_model.fit(X_train_clf, y_train_clf)\n",
        "y_pred_log = log_model.predict(X_test_clf)\n",
        "\n",
        "# Decision Tree Classifier\n",
        "dt_clf = DecisionTreeClassifier(random_state=42)\n",
        "dt_clf.fit(X_train_clf, y_train_clf)\n",
        "y_pred_dt_clf = dt_clf.predict(X_test_clf)\n",
        "\n",
        "# Random Forest Classifier\n",
        "rf_clf = RandomForestClassifier(random_state=42)\n",
        "rf_clf.fit(X_train_clf, y_train_clf)\n",
        "y_pred_rf_clf = rf_clf.predict(X_test_clf)\n"
      ],
      "metadata": {
        "id": "StOg2NQWH1Yv"
      },
      "execution_count": 11,
      "outputs": []
    },
    {
      "cell_type": "code",
      "source": [
        "# model evaluation\n",
        "\n",
        "def evaluate_regression(y_true, y_pred, model_name):\n",
        "    print(f\"{model_name}\")\n",
        "    print(f\"R2 Score: {r2_score(y_true, y_pred):.2f}\")\n",
        "    # Calculate RMSE manually\n",
        "    print(f\"RMSE: {np.sqrt(mean_squared_error(y_true, y_pred)) :.2f}\") #changed this line\n",
        "    print(\"-\"*30)\n",
        "\n",
        "evaluate_regression(y_test_reg, y_pred_lr, \"Linear Regression\")\n",
        "evaluate_regression(y_test_reg, y_pred_dt_reg, \"Decision Tree Regressor\")\n",
        "evaluate_regression(y_test_reg, y_pred_rf_reg, \"Random Forest Regressor\")"
      ],
      "metadata": {
        "colab": {
          "base_uri": "https://localhost:8080/"
        },
        "id": "E60OVjJ8H7hS",
        "outputId": "37e7a8d6-b730-44e6-a3b4-19bc7c95963d"
      },
      "execution_count": 14,
      "outputs": [
        {
          "output_type": "stream",
          "name": "stdout",
          "text": [
            "Linear Regression\n",
            "R2 Score: 0.72\n",
            "RMSE: 2.38\n",
            "------------------------------\n",
            "Decision Tree Regressor\n",
            "R2 Score: 0.66\n",
            "RMSE: 2.62\n",
            "------------------------------\n",
            "Random Forest Regressor\n",
            "R2 Score: 0.81\n",
            "RMSE: 1.98\n",
            "------------------------------\n"
          ]
        }
      ]
    },
    {
      "cell_type": "code",
      "source": [
        "def evaluate_classification(y_true, y_pred, model_name):\n",
        "    print(f\"{model_name}\")\n",
        "    print(f\"Accuracy: {accuracy_score(y_true, y_pred)*100:.2f}%\")\n",
        "    print(classification_report(y_true, y_pred))\n",
        "    print(\"-\"*30)\n",
        "\n",
        "evaluate_classification(y_test_clf, y_pred_log, \"Logistic Regression\")\n",
        "evaluate_classification(y_test_clf, y_pred_dt_clf, \"Decision Tree Classifier\")\n",
        "evaluate_classification(y_test_clf, y_pred_rf_clf, \"Random Forest Classifier\")\n"
      ],
      "metadata": {
        "colab": {
          "base_uri": "https://localhost:8080/"
        },
        "id": "IMLKcnigIPCg",
        "outputId": "d6b1e434-af3a-437d-9d88-8c255c444b2b"
      },
      "execution_count": 15,
      "outputs": [
        {
          "output_type": "stream",
          "name": "stdout",
          "text": [
            "Logistic Regression\n",
            "Accuracy: 92.41%\n",
            "              precision    recall  f1-score   support\n",
            "\n",
            "           0       0.86      0.93      0.89        27\n",
            "           1       0.96      0.92      0.94        52\n",
            "\n",
            "    accuracy                           0.92        79\n",
            "   macro avg       0.91      0.92      0.92        79\n",
            "weighted avg       0.93      0.92      0.92        79\n",
            "\n",
            "------------------------------\n",
            "Decision Tree Classifier\n",
            "Accuracy: 88.61%\n",
            "              precision    recall  f1-score   support\n",
            "\n",
            "           0       0.82      0.85      0.84        27\n",
            "           1       0.92      0.90      0.91        52\n",
            "\n",
            "    accuracy                           0.89        79\n",
            "   macro avg       0.87      0.88      0.87        79\n",
            "weighted avg       0.89      0.89      0.89        79\n",
            "\n",
            "------------------------------\n",
            "Random Forest Classifier\n",
            "Accuracy: 91.14%\n",
            "              precision    recall  f1-score   support\n",
            "\n",
            "           0       0.83      0.93      0.88        27\n",
            "           1       0.96      0.90      0.93        52\n",
            "\n",
            "    accuracy                           0.91        79\n",
            "   macro avg       0.90      0.91      0.90        79\n",
            "weighted avg       0.92      0.91      0.91        79\n",
            "\n",
            "------------------------------\n"
          ]
        }
      ]
    },
    {
      "cell_type": "code",
      "source": [
        "# feature importance\n",
        "\n",
        "importances = rf_clf.feature_importances_\n",
        "features = X.columns\n",
        "feature_importance = pd.Series(importances, index=features).sort_values(ascending=False)\n",
        "\n",
        "# Plot\n",
        "plt.figure(figsize=(12,6))\n",
        "sns.barplot(x=feature_importance.values[:10], y=feature_importance.index[:10])\n",
        "plt.title(\"Top 10 Important Features Influencing Academic Performance\")\n",
        "plt.show()\n"
      ],
      "metadata": {
        "colab": {
          "base_uri": "https://localhost:8080/",
          "height": 351
        },
        "id": "OCnxW9xGIWJD",
        "outputId": "cad95332-ba08-4e96-8a05-53a7efcaba10"
      },
      "execution_count": 16,
      "outputs": [
        {
          "output_type": "display_data",
          "data": {
            "text/plain": [
              "<Figure size 1200x600 with 1 Axes>"
            ],
            "image/png": "[encoded data removed]"
          },
          "metadata": {}
        }
      ]
    }
  ]
}